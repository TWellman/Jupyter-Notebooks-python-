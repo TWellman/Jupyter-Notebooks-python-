{
 "cells": [
  {
   "cell_type": "markdown",
   "metadata": {},
   "source": [
    "## Code experiments to process files to ScienceBase\n",
    "## using new in-memory functions in the pysb module.\n",
    "\n",
    "##### Date: June 12, 2017\n",
    "\n",
    "##### Purpose:\n",
    "Retrieve data file (content) from remote source (url) into computer memory \n",
    "<br>then upload content as memory stream to an item in ScienceBase, \n",
    "<br>for items see https://www.sciencebase.gov/catalog/item/ . \n",
    "\n",
    "##### Pysb author:\n",
    "John Long \n",
    "<br>jllong@usgs.gov \n",
    "<br>USGS Fort Collins Science Center\n",
    "<br>2150 Centre Ave, Building C\n",
    "<br>Fort Collins, CO \n",
    "\n",
    "##### Stream modifications by:\n",
    "Tristan Wellman\n",
    "<br>twellman@usgs.gov\n",
    "<br>Biogeogeographic Characterization Branch\n",
    "<br>Core Science Analytics, Synthesis, and Libraries\n",
    "<br>U.S. Geological Survey, Denver, Colorado\n",
    "\n",
    "##### Options (a-c) for in-memory stream processing:\n",
    "<br>    a) http(s) request from url (e.g. 'http://waterservices.usgs.gov/nwis/gwlevels/?siteStatus=all&sites=375907091432201&format=rdb')\n",
    "<br>    b) ftp request from url (e.g. 'ftp://ftp.horizon-systems.com/NHDplus/NHDPlusV1/SourisRedRainy/NHDPlus09V01_02_NHD.zip')\n",
    "<br>    c) pass BytesIO file object from io module (e.g. fileObj = BytesIO(urlopen(url)))\n",
    "\n",
    "##### New Function:\n",
    "<br> usage with required inputs: \n",
    "<br>    item = sb.upload_file_to_item_stream(item, stream_src) \n",
    "<br>\n",
    "<br> usage with optional inputs: \n",
    "<br>    item = sb.upload_file_to_item_stream(item, stream_src, scrape_file=True, get_info=True, post_info=True, filename_sub = fname)        \n",
    "<br> where:\n",
    "<br>  1) item:  ScienceBase item json (see pysb documentation)\n",
    "<br>  2) stream_src: url (http or ftp) or file object, options a-c, discussed above\n",
    "<br>  3) scrape_file: optional True/False flag of whether to use ScienceBase metadata processing \n",
    "<br>  4) stream_kwargs: optional arguments for file naming and request content reporting:\n",
    "<br>&nbsp;&nbsp;&nbsp;&nbsp;  (a) auxillary filename, used if absent in requested content (filename_sub = \"filename.fmt\")\n",
    "<br>&nbsp;&nbsp;&nbsp;&nbsp;  (b) report .GET (\"get_info=True\") get request header information\n",
    "<br>&nbsp;&nbsp;&nbsp;&nbsp;  (c) report .POST (\"post_info=True\") post request header information\n",
    "\n",
    "<br>It is possible to load files individually (one-by-one) or all together (batch mode),\n",
    "<br>to pass urls pointing to files or constructed BytesIO file objects (examples below). \n",
    "<br>Follow pysb general guidelines, e.g. batchload all shapefile component files\n",
    "\n",
    "<br> NOTE: \"stream_src\" and \"filename_sub\" inputs should be list formated, \n",
    "<br> e.g. stream_source = [url_1, url_2, url_3], filename = ['my_file.txt']\n"
   ]
  },
  {
   "cell_type": "code",
   "execution_count": 1,
   "metadata": {
    "collapsed": false
   },
   "outputs": [
    {
     "name": "stdout",
     "output_type": "stream",
     "text": [
      "modules loaded\n"
     ]
    }
   ],
   "source": [
    "import pysb\n",
    "from io import BytesIO\n",
    "import os\n",
    "import time\n",
    "import requests\n",
    "from re import findall\n",
    "from contextlib import closing\n",
    "try:\n",
    "    from urllib.request import urlopen\n",
    "except ImportError:\n",
    "    from urllib2 import urlopen\n",
    "    \n",
    "from IPython.display import clear_output\n",
    "\n",
    "\n",
    "print ('modules loaded')"
   ]
  },
  {
   "cell_type": "code",
   "execution_count": 2,
   "metadata": {
    "collapsed": false
   },
   "outputs": [
    {
     "name": "stdout",
     "output_type": "stream",
     "text": [
      "Username:  twellman@usgs.gov\n",
      "········\n"
     ]
    }
   ],
   "source": [
    "# login to ScienceBase through personal user account \n",
    "\n",
    "sb = pysb.SbSession()\n",
    "username = raw_input(\"Username:  \")\n",
    "sb.loginc(str(username))\n",
    "time.sleep(5)"
   ]
  },
  {
   "cell_type": "code",
   "execution_count": 10,
   "metadata": {
    "collapsed": false
   },
   "outputs": [
    {
     "name": "stdout",
     "output_type": "stream",
     "text": [
      "Using ScienceBase item: \n",
      "{u'locked': False, u'hasChildren': False, u'title': u'Python test: stream download to stream upload in ScienceBase', u'provenance': {u'lastUpdatedBy': u'twellman@usgs.gov', u'createdBy': u'twellman@usgs.gov', u'annotation': u'Python ScienceBase memory process test script', u'lastUpdated': u'2017-06-23T16:22:31Z', u'dateCreated': u'2017-06-15T15:48:34Z'}, u'relatedItems': {u'link': {u'url': u'https://www.sciencebase.gov/catalog/itemLinks?itemId=5942ac52e4b0764e6c65fdb0', u'rel': u'related'}}, u'link': {u'url': u'https://www.sciencebase.gov/catalog/item/5942ac52e4b0764e6c65fdb0', u'rel': u'self'}, u'parentId': u'570c0592e4b0ef3b7ca04e9e', u'distributionLinks': [], u'id': u'5942ac52e4b0764e6c65fdb0', u'permissions': {u'read': {u'inheritsFromId': u'570c0592e4b0ef3b7ca04e9e', u'inherited': True, u'acl': [u'USER:twellman@usgs.gov']}, u'write': {u'inheritsFromId': u'570c0592e4b0ef3b7ca04e9e', u'inherited': True, u'acl': [u'USER:twellman@usgs.gov']}}}\n"
     ]
    }
   ],
   "source": [
    "# Reference or create a test ScienceBase item, accessible to the user logged in\n",
    "\n",
    "exist = True\n",
    "\n",
    "# existing item\n",
    "if exist:\n",
    "    sb_id = '5942ac52e4b0764e6c65fdb0'\n",
    "    item = sb.get_item(sb_id)\n",
    "    \n",
    "# create a new item\n",
    "else:\n",
    "    new_item = {'title': 'Python test: stream download to stream upload in ScienceBase' ,\n",
    "    'parentId': sb.get_my_items_id(),\n",
    "    'provenance': {'annotation': 'Python ScienceBase memory process test script'}}\n",
    "    item = sb.create_item(new_item)\n",
    "    \n",
    "print(\"{}\\n{}\".format('Using ScienceBase item: ', item))\n",
    "\n"
   ]
  },
  {
   "cell_type": "code",
   "execution_count": 11,
   "metadata": {
    "collapsed": false
   },
   "outputs": [
    {
     "name": "stdout",
     "output_type": "stream",
     "text": [
      "\n",
      "** ** Attempting to stream url response to sb_item: 5942ac52e4b0764e6c65fdb0 from url: \n",
      "\n",
      "http://waterservices.usgs.gov/nwis/gwlevels/?siteStatus=all&sites=375907091432201&format=rdb\n",
      "\n",
      "GET status code: \n",
      "\\200\n",
      "GET info: \n",
      "\\{'Content-Encoding': 'gzip', 'Transfer-Encoding': 'chunked', 'Strict-Transport-Security': 'max-age=31536000', 'Vary': 'Accept-Encoding', 'Keep-Alive': 'timeout=15, max=100', 'Server': 'GlassFish Server Open Source Edition  4.1', 'Connection': 'Keep-Alive', 'X-UA-Compatible': 'IE=edge,chrome=1', 'Date': 'Fri, 23 Jun 2017 16:23:41 GMT', 'Access-Control-Allow-Origin': '*', 'Content-Type': 'text/plain;charset=UTF-8'}\n",
      "\n",
      "Note: server provided filename (content-disposition) was not found,\n",
      "       using provided filename: ['NWIS_TEST_1.rdb']\n",
      "\n",
      "POST status code: \n",
      "\\200\n",
      "POST info: \n",
      "\\{'Transfer-Encoding': 'chunked', 'Strict-Transport-Security': 'max-age=63072000; includeSubdomains; preload', 'Keep-Alive': 'timeout=10, max=299', 'Connection': 'Keep-Alive', 'X-UA-Compatible': 'IE=edge', 'Date': 'Fri, 23 Jun 2017 16:23:42 GMT', 'X-Frame-Options': 'DENY', 'Content-Type': 'application/json;charset=UTF-8'}\n",
      "\n",
      "\n",
      "** ** Stream upload to ScienceBase complete.\n",
      "\n",
      "** ** Attempting to stream url response to sb_item: 5942ac52e4b0764e6c65fdb0 from url: \n",
      "\n",
      "http://coastwatch.pfeg.noaa.gov/erddap/tabledap/erdCAMarCatLM.nc?time%2Cyear%2Cfish%2Cport%2Clandings&time%3E=2002-10-09T00%3A00%3A00Z&time%3C=2002-12-16T00%3A00%3A00Z\n",
      "\n",
      "GET status code: \n",
      "\\200\n",
      "GET info: \n",
      "\\{'xdods-server': 'dods/3.7', 'Content-Disposition': 'attachment;filename=erdCAMarCatLM_36d5_b891_bee9.nc', 'Content-Encoding': 'gzip', 'Transfer-Encoding': 'chunked', 'erddap-server': '1.78', 'Last-Modified': 'Fri, 23 Jun 2017 16:23:42 GMT', 'Connection': 'close', 'Date': 'Fri, 23 Jun 2017 16:23:42 GMT', 'Content-Type': 'application/x-netcdf'}\n",
      "\n",
      "POST status code: \n",
      "\\200\n",
      "POST info: \n",
      "\\{'Transfer-Encoding': 'chunked', 'Strict-Transport-Security': 'max-age=63072000; includeSubdomains; preload', 'Keep-Alive': 'timeout=10, max=298', 'Connection': 'Keep-Alive', 'X-UA-Compatible': 'IE=edge', 'Date': 'Fri, 23 Jun 2017 16:23:43 GMT', 'X-Frame-Options': 'DENY', 'Content-Type': 'application/json;charset=UTF-8'}\n",
      "\n",
      "\n",
      "** ** Stream upload to ScienceBase complete.\n"
     ]
    }
   ],
   "source": [
    "# <<< OPTION A >> - IN MEMORY FILE PROCESSING: **HTTP** file processing \n",
    "\n",
    "# TEST 1 : Pass file url one-by-one to ScienceBase\n",
    "#          report GET and POST request information, \n",
    "#          scrape = False --> turn off ScienceBase metadata read \n",
    "         \n",
    "# files : a) NWIS data file (*.rdf) and b) NOAA biogeographic data (netcdf, *.nc)\n",
    "file_list = ['http://waterservices.usgs.gov/nwis/gwlevels/?siteStatus=all&sites=375907091432201&format=rdb',\n",
    "             'http://coastwatch.pfeg.noaa.gov/erddap/tabledap/erdCAMarCatLM.nc?time%2Cyear%2Cfish%2Cport%2Clandings&time%3E=2002-10-09T00%3A00%3A00Z&time%3C=2002-12-16T00%3A00%3A00Z']\n",
    "\n",
    "# alternate filenames, used only if missing in url request\n",
    "fnames = ['NWIS_TEST_1.rdb', 'Is_Not_Used.fmt']\n",
    "\n",
    "# stream files one-by-one (single mode), note: file (f) and filenames (filename_sub) are lists \"[]\"\n",
    "for i, f in enumerate(file_list):\n",
    "    item = sb.upload_file_to_item_stream(item, [ f ], scrape_file=False, \n",
    "                                         get_info=True, post_info=True,\n",
    "                                         filename_sub = [ fnames[i] ] )"
   ]
  },
  {
   "cell_type": "code",
   "execution_count": 12,
   "metadata": {
    "collapsed": false
   },
   "outputs": [
    {
     "name": "stdout",
     "output_type": "stream",
     "text": [
      "\n",
      "** ** Attempting to stream url response to sb_item: 5942ac52e4b0764e6c65fdb0 from url: \n",
      "\n",
      "http://waterservices.usgs.gov/nwis/gwlevels/?siteStatus=all&sites=375907091432201&format=rdb\n",
      "\n",
      "Note: server provided filename (content-disposition) was not found,\n",
      "       using provided filename: ['NWIS_TEST_2.rdb', 'This_Is_Not_Used.fmt']\n",
      "\n",
      "** ** Attempting to stream url response to sb_item: 5942ac52e4b0764e6c65fdb0 from url: \n",
      "\n",
      "http://coastwatch.pfeg.noaa.gov/erddap/tabledap/erdCAMarCatLM.nc?time%2Cyear%2Cfish%2Cport%2Clandings&time%3E=2002-10-09T00%3A00%3A00Z&time%3C=2002-12-16T00%3A00%3A00Z\n",
      "\n",
      "\n",
      "** ** Stream upload to ScienceBase complete.\n"
     ]
    }
   ],
   "source": [
    "# <<< OPTION A >> - IN MEMORY FILE PROCESSING: **HTTP** file processing \n",
    "\n",
    "# TEST 2 : Pass file urls all together in batch mode\n",
    "#          report only mimimum request information, \n",
    "#          scrape = False --> turn off ScienceBase metadata read \n",
    "         \n",
    "# files : a) NWIS data file (*.rdf) and b) NOAA biogeographic data (netcdf, *.nc)\n",
    "file_list = ['http://waterservices.usgs.gov/nwis/gwlevels/?siteStatus=all&sites=375907091432201&format=rdb',\n",
    "             'http://coastwatch.pfeg.noaa.gov/erddap/tabledap/erdCAMarCatLM.nc?time%2Cyear%2Cfish%2Cport%2Clandings&time%3E=2002-10-09T00%3A00%3A00Z&time%3C=2002-12-16T00%3A00%3A00Z']\n",
    "\n",
    "# alternate filenames, used only if missing in url request\n",
    "fnames = ['NWIS_TEST_2.rdb', 'This_Is_Not_Used.fmt']\n",
    "    \n",
    "# stream file urls in batch mode\n",
    "item = sb.upload_file_to_item_stream(item, file_list, scrape_file=False, \n",
    "                                         filename_sub = fnames )"
   ]
  },
  {
   "cell_type": "code",
   "execution_count": 13,
   "metadata": {
    "collapsed": false
   },
   "outputs": [
    {
     "name": "stdout",
     "output_type": "stream",
     "text": [
      "\n",
      "** ** Attempting to stream url response to sb_item: 5942ac52e4b0764e6c65fdb0 from url: \n",
      "\n",
      "ftp://ftp.horizon-systems.com/NHDplus/NHDPlusV1/SourisRedRainy/NHDPlus09V01_02_NHD.zip\n",
      "\n",
      "Note: server provided filename (content-disposition) was not found,\n",
      "       using provided filename: ['TEST3_NHDPlus09V01_02_NHD.zip']\n",
      "\n",
      "\n",
      "** ** Stream upload to ScienceBase complete.\n"
     ]
    }
   ],
   "source": [
    "# << OPTION B >> - IN MEMORY FILE PROCESSING: complete **ZIP** file\n",
    "\n",
    "# TEST 3 : stream process complete zip file to ScienceBase, \n",
    "#          use alternate filename provided,\n",
    "#          mininum request reporting\n",
    "\n",
    "# file source : National Hydrography Data (*.zip)\n",
    "f = 'ftp://ftp.horizon-systems.com/NHDplus/NHDPlusV1/SourisRedRainy/NHDPlus09V01_02_NHD.zip'\n",
    "\n",
    "# specify file name from url, used only if name is absent from content disposition\n",
    "fname = 'TEST3_' + f.rsplit('/',1)[1] \n",
    "\n",
    "# stream process zip file\n",
    "item = sb.upload_file_to_item_stream(item, [f], filename_sub = [fname]) \n"
   ]
  },
  {
   "cell_type": "code",
   "execution_count": 15,
   "metadata": {
    "collapsed": false
   },
   "outputs": [
    {
     "name": "stdout",
     "output_type": "stream",
     "text": [
      "\n",
      "** ** Attempting to stream BytesIO file object to sb_item: 5942ac52e4b0764e6c65fdb0\n",
      "\n",
      "\n",
      "Note: server provided filename (content-disposition) was not found,\n",
      "       using provided filename: TEST4_NWIS_rename.rdb\n",
      "\n",
      "\n",
      "** ** Stream upload to ScienceBase complete.\n",
      "\n",
      "** ** Attempting to stream BytesIO file object to sb_item: 5942ac52e4b0764e6c65fdb0\n",
      "\n",
      "\n",
      "Note: server provided filename (content-disposition) was not found,\n",
      "       using provided filename: erdCAMarCatLM_36d5_b891_bee9.nc\n",
      "\n",
      "\n",
      "** ** Stream upload to ScienceBase complete.\n"
     ]
    }
   ],
   "source": [
    "# << OPTION C >> - IN MEMORY FILE PROCESSING: pass BytesIO file object   \n",
    "\n",
    "# TEST 4 : Request individual files as streamed file objects,\n",
    "#          upload file objects one-by-one to ScienceBase\n",
    "\n",
    "# Data files : a) NWIS water services data file (*.rdf) and b) NOAA biogeographic data (netcdf, *.nc)\n",
    "file_list = ['http://waterservices.usgs.gov/nwis/gwlevels/?siteStatus=all&sites=375907091432201&format=rdb',\n",
    "         'http://coastwatch.pfeg.noaa.gov/erddap/tabledap/erdCAMarCatLM.nc?time%2Cyear%2Cfish%2Cport%2Clandings&time%3E=2002-10-09T00%3A00%3A00Z&time%3C=2002-12-16T00%3A00%3A00Z']\n",
    "\n",
    "# alternate file names \n",
    "fname_alt = ['TEST4_NWIS_rename.rdb', None]\n",
    "\n",
    "    \n",
    "# request files, convert to file objects, and stream objects one-by-one\n",
    "for i, f in enumerate(file_list):\n",
    "    with closing(urlopen(f)) as r:\n",
    "        if 'content-disposition' in r.headers:\n",
    "            fname = ''.join(findall(\"filename=(.+)\", r.info()['Content-Disposition']))\n",
    "        else:\n",
    "            fname = fname_alt[i]\n",
    "        fileObj = BytesIO(r.read())\n",
    "        item = sb.upload_file_to_item_stream(item, [fileObj], filename_sub = [fname])"
   ]
  },
  {
   "cell_type": "code",
   "execution_count": 17,
   "metadata": {
    "collapsed": false
   },
   "outputs": [
    {
     "name": "stdout",
     "output_type": "stream",
     "text": [
      "\n",
      "selected file from zip folder: \n",
      "\tNHDPlus09/NHDFlowlineVAA.dbf\n",
      "\n",
      "selected file from zip folder: \n",
      "\tNHDPlus09/Hydrography/NHDFlowline.dbf\n",
      "\n",
      "selected file from zip folder: \n",
      "\tNHDPlus09/Hydrography/NHDFlowline.prj\n",
      "\n",
      "selected file from zip folder: \n",
      "\tNHDPlus09/Hydrography/nhdflowline.shp\n",
      "\n",
      "selected file from zip folder: \n",
      "\tNHDPlus09/Hydrography/nhdflowline.shx\n",
      "\n",
      "** ** Attempting to stream BytesIO file object to sb_item: 5942ac52e4b0764e6c65fdb0\n",
      "\n",
      "\n",
      "Note: server provided filename (content-disposition) was not found,\n",
      "       using provided filename: NHDPlus09/NHDFlowlineVAA.dbf\n",
      "\n",
      "** ** Attempting to stream BytesIO file object to sb_item: 5942ac52e4b0764e6c65fdb0\n",
      "\n",
      "\n",
      "Note: server provided filename (content-disposition) was not found,\n",
      "       using provided filename: NHDPlus09/Hydrography/NHDFlowline.dbf\n",
      "\n",
      "** ** Attempting to stream BytesIO file object to sb_item: 5942ac52e4b0764e6c65fdb0\n",
      "\n",
      "\n",
      "Note: server provided filename (content-disposition) was not found,\n",
      "       using provided filename: NHDPlus09/Hydrography/NHDFlowline.prj\n",
      "\n",
      "** ** Attempting to stream BytesIO file object to sb_item: 5942ac52e4b0764e6c65fdb0\n",
      "\n",
      "\n",
      "Note: server provided filename (content-disposition) was not found,\n",
      "       using provided filename: NHDPlus09/Hydrography/nhdflowline.shp\n",
      "\n",
      "** ** Attempting to stream BytesIO file object to sb_item: 5942ac52e4b0764e6c65fdb0\n",
      "\n",
      "\n",
      "Note: server provided filename (content-disposition) was not found,\n",
      "       using provided filename: NHDPlus09/Hydrography/nhdflowline.shx\n",
      "\n",
      "\n",
      "** ** Stream upload to ScienceBase complete.\n",
      "[{u'contentType': u'text/plain', u'name': u'NWIS_TEST_1.rdb', u'originalMetadata': None, u'title': None, u'dateUploaded': u'2017-06-23T16:23:42Z', u'checksum': None, u'imageWidth': None, u'contentEncoding': None, u's3Object': None, u'processToken': None, u'useForPreview': None, u'processed': None, u'pathOnDisk': u'__disk__2c/ee/bc/2ceebce98fe3506a6937c7db0d1ed65c9a1d0a9f', u'url': u'https://www.sciencebase.gov/catalog/file/get/5942ac52e4b0764e6c65fdb0?f=__disk__2c%2Fee%2Fbc%2F2ceebce98fe3506a6937c7db0d1ed65c9a1d0a9f', u'size': 3185, u'uploadedBy': u'twellman@usgs.gov', u'imageHeight': None}, {u'contentType': u'application/x-netcdf', u'name': u'erdCAMarCatLM_36d5_b891_bee9.nc', u'originalMetadata': None, u'title': None, u'dateUploaded': u'2017-06-23T16:23:48Z', u'checksum': None, u'imageWidth': None, u'contentEncoding': None, u's3Object': None, u'processToken': None, u'useForPreview': None, u'processed': None, u'pathOnDisk': u'__disk__1d/0d/ae/1d0dae49f4fd66298fb61550c82ad473da07ba40', u'url': u'https://www.sciencebase.gov/catalog/file/get/5942ac52e4b0764e6c65fdb0?f=__disk__1d%2F0d%2Fae%2F1d0dae49f4fd66298fb61550c82ad473da07ba40', u'size': 474032, u'uploadedBy': u'twellman@usgs.gov', u'imageHeight': None}, {u'contentType': u'text/plain', u'name': u'NWIS_TEST_2.rdb', u'originalMetadata': None, u'title': None, u'dateUploaded': u'2017-06-23T16:24:03Z', u'checksum': None, u'imageWidth': None, u'contentEncoding': None, u's3Object': None, u'processToken': None, u'useForPreview': None, u'processed': None, u'pathOnDisk': u'__disk__09/44/8d/09448d24492148367586697681b1d653c250f389', u'url': u'https://www.sciencebase.gov/catalog/file/get/5942ac52e4b0764e6c65fdb0?f=__disk__09%2F44%2F8d%2F09448d24492148367586697681b1d653c250f389', u'size': 3185, u'uploadedBy': u'twellman@usgs.gov', u'imageHeight': None}, {u'contentType': u'application/x-netcdf', u'name': u'erdCAMarCatLM_36d5_b891_bee9.nc', u'originalMetadata': None, u'title': None, u'dateUploaded': u'2017-06-23T16:24:03Z', u'checksum': None, u'imageWidth': None, u'contentEncoding': None, u's3Object': None, u'processToken': None, u'useForPreview': None, u'processed': None, u'pathOnDisk': u'__disk__cf/3f/bf/cf3fbf7e9ed37544564a35e73147fc40d62ad008', u'url': u'https://www.sciencebase.gov/catalog/file/get/5942ac52e4b0764e6c65fdb0?f=__disk__cf%2F3f%2Fbf%2Fcf3fbf7e9ed37544564a35e73147fc40d62ad008', u'size': 474032, u'uploadedBy': u'twellman@usgs.gov', u'imageHeight': None}, {u'contentType': u'application/zip', u'name': u'TEST3_NHDPlus09V01_02_NHD.zip', u'originalMetadata': None, u'title': None, u'dateUploaded': u'2017-06-23T16:36:00Z', u'checksum': None, u'imageWidth': None, u'contentEncoding': None, u's3Object': None, u'processToken': None, u'useForPreview': None, u'processed': None, u'pathOnDisk': u'__disk__55/97/52/559752da79acf6503a1f1bac7d262465d309629a', u'url': u'https://www.sciencebase.gov/catalog/file/get/5942ac52e4b0764e6c65fdb0?f=__disk__55%2F97%2F52%2F559752da79acf6503a1f1bac7d262465d309629a', u'size': 41361730, u'uploadedBy': u'twellman@usgs.gov', u'imageHeight': None}, {u'contentType': u'text/plain', u'name': u'TEST4_NWIS_rename.rdb', u'originalMetadata': None, u'title': None, u'dateUploaded': u'2017-06-23T16:37:10Z', u'checksum': None, u'imageWidth': None, u'contentEncoding': None, u's3Object': None, u'processToken': None, u'useForPreview': None, u'processed': None, u'pathOnDisk': u'__disk__44/15/76/4415761f651a15beff78aef2daad9ad5ed84d5e0', u'url': u'https://www.sciencebase.gov/catalog/file/get/5942ac52e4b0764e6c65fdb0?f=__disk__44%2F15%2F76%2F4415761f651a15beff78aef2daad9ad5ed84d5e0', u'size': 3185, u'uploadedBy': u'twellman@usgs.gov', u'imageHeight': None}, {u'contentType': u'text/plain', u'name': u'NHDFlowlineVAA.dbf', u'originalMetadata': None, u'title': None, u'dateUploaded': u'2017-06-23T16:50:00Z', u'checksum': None, u'imageWidth': None, u'contentEncoding': None, u's3Object': None, u'processToken': None, u'useForPreview': None, u'processed': None, u'pathOnDisk': u'__disk__2f/1f/00/2f1f0041330e7d5e4ce45bb724f0fd3aaaf660b1', u'url': u'https://www.sciencebase.gov/catalog/file/get/5942ac52e4b0764e6c65fdb0?f=__disk__2f%2F1f%2F00%2F2f1f0041330e7d5e4ce45bb724f0fd3aaaf660b1', u'size': 7903512, u'uploadedBy': u'twellman@usgs.gov', u'imageHeight': None}, {u'contentType': u'text/plain', u'name': u'NHDFlowline.dbf', u'originalMetadata': None, u'title': None, u'dateUploaded': u'2017-06-23T16:50:00Z', u'checksum': None, u'imageWidth': None, u'contentEncoding': None, u's3Object': None, u'processToken': None, u'useForPreview': None, u'processed': None, u'pathOnDisk': u'__disk__3c/5a/da/3c5adabe6ee6d4be740c69b39fb5d3620f16e61d', u'url': u'https://www.sciencebase.gov/catalog/file/get/5942ac52e4b0764e6c65fdb0?f=__disk__3c%2F5a%2Fda%2F3c5adabe6ee6d4be740c69b39fb5d3620f16e61d', u'size': 7109640, u'uploadedBy': u'twellman@usgs.gov', u'imageHeight': None}, {u'contentType': u'text/plain', u'name': u'NHDFlowline.prj', u'originalMetadata': None, u'title': None, u'dateUploaded': u'2017-06-23T16:50:00Z', u'checksum': None, u'imageWidth': None, u'contentEncoding': None, u's3Object': None, u'processToken': None, u'useForPreview': None, u'processed': None, u'pathOnDisk': u'__disk__7e/48/62/7e48623b6c4c564cd5a93d4755ca9251188a156a', u'url': u'https://www.sciencebase.gov/catalog/file/get/5942ac52e4b0764e6c65fdb0?f=__disk__7e%2F48%2F62%2F7e48623b6c4c564cd5a93d4755ca9251188a156a', u'size': 167, u'uploadedBy': u'twellman@usgs.gov', u'imageHeight': None}, {u'contentType': u'x-gis/x-shapefile', u'name': u'nhdflowline.shp', u'originalMetadata': None, u'title': None, u'dateUploaded': u'2017-06-23T16:50:00Z', u'checksum': None, u'imageWidth': None, u'contentEncoding': None, u's3Object': None, u'processToken': None, u'useForPreview': None, u'processed': None, u'pathOnDisk': u'__disk__4e/6e/13/4e6e13d08b08c3dcba186f137dcd7525a854be12', u'url': u'https://www.sciencebase.gov/catalog/file/get/5942ac52e4b0764e6c65fdb0?f=__disk__4e%2F6e%2F13%2F4e6e13d08b08c3dcba186f137dcd7525a854be12', u'size': 33005524, u'uploadedBy': u'twellman@usgs.gov', u'imageHeight': None}, {u'contentType': u'x-gis/x-shapefile', u'name': u'nhdflowline.shx', u'originalMetadata': None, u'title': None, u'dateUploaded': u'2017-06-23T16:50:00Z', u'checksum': None, u'imageWidth': None, u'contentEncoding': None, u's3Object': None, u'processToken': None, u'useForPreview': None, u'processed': None, u'pathOnDisk': u'__disk__30/e3/db/30e3db194e749bbc805b2dcf019d42f955f8ecd9', u'url': u'https://www.sciencebase.gov/catalog/file/get/5942ac52e4b0764e6c65fdb0?f=__disk__30%2Fe3%2Fdb%2F30e3db194e749bbc805b2dcf019d42f955f8ecd9', u'size': 264628, u'uploadedBy': u'twellman@usgs.gov', u'imageHeight': None}]\n"
     ]
    }
   ],
   "source": [
    "# << OPTION C >> - IN MEMORY FILE PROCESSING: pass BytesIO file object  --> upload to ScienceBase \n",
    "\n",
    "# TEST 5 : Request zip file from url, upack selected files, upload in batchmode as file objects\n",
    "\n",
    "# Note, scrape_file=True creates errors in pysb during testing when loading a shapefile *.shp\n",
    "# Errors also occurred using a stock pysb command (e.g. sb.upload_file_to_item(item,'nhdarea.shp'))\n",
    "# scrape_file=False is used for the example, which halts the ScienceBase metadata read, TBR later.\n",
    "\n",
    "from zipfile import ZipFile\n",
    "\n",
    "# prescribe url for remote zip file\n",
    "file_list = ['ftp://ftp.horizon-systems.com/NHDplus/NHDPlusV1/SourisRedRainy/NHDPlus09V01_02_NHD.zip']\n",
    "\n",
    "# list of files in zip, note: to view available content use zipfile.namelist()\n",
    "proc_files_inZip =  ['NHDPlus09/NHDFlowlineVAA.dbf',\n",
    "                     'NHDPlus09/Hydrography/NHDFlowline.dbf',\n",
    "                     'NHDPlus09/Hydrography/NHDFlowline.prj',\n",
    "                     'NHDPlus09/Hydrography/nhdflowline.shp',\n",
    "                     'NHDPlus09/Hydrography/nhdflowline.shx']        \n",
    "\n",
    "# request files, convert to file objects, and stream file objects all together in batch mode\n",
    "fileObj = []\n",
    "for f in file_list:\n",
    "    with closing(urlopen(f)) as r, ZipFile(BytesIO(r.read())) as zfile:\n",
    "        for entry in proc_files_inZip:\n",
    "            print(\"\\n{}\\n\\t{}\".format('selected file from zip folder: ', entry))\n",
    "            fileObj.append(BytesIO(zfile.read(entry)))\n",
    "        item = sb.upload_file_to_item_stream(item, fileObj, \n",
    "                                          scrape_file=False,\n",
    "                                          filename_sub = proc_files_inZip)\n",
    "        print(item['files'])\n",
    "    "
   ]
  },
  {
   "cell_type": "code",
   "execution_count": 18,
   "metadata": {
    "collapsed": false
   },
   "outputs": [
    {
     "name": "stdout",
     "output_type": "stream",
     "text": [
      "Notebook has run to completion\n"
     ]
    }
   ],
   "source": [
    "print('Notebook has run to completion')"
   ]
  },
  {
   "cell_type": "code",
   "execution_count": null,
   "metadata": {
    "collapsed": true
   },
   "outputs": [],
   "source": []
  }
 ],
 "metadata": {
  "kernelspec": {
   "display_name": "Python [conda root]",
   "language": "python",
   "name": "conda-root-py"
  },
  "language_info": {
   "codemirror_mode": {
    "name": "ipython",
    "version": 2
   },
   "file_extension": ".py",
   "mimetype": "text/x-python",
   "name": "python",
   "nbconvert_exporter": "python",
   "pygments_lexer": "ipython2",
   "version": "2.7.13"
  }
 },
 "nbformat": 4,
 "nbformat_minor": 2
}
