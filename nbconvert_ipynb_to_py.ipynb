{
 "cells": [
  {
   "cell_type": "code",
   "execution_count": null,
   "metadata": {
    "collapsed": true
   },
   "outputs": [],
   "source": [
    "# convert from notebook *.ipynb to *.py file\n",
    "\n",
    "# or use \"jupyter nbconvert --to script filename.ext\" on commandline in \n",
    "# correct python environment --> e.g. \"source activate env_name\"\n",
    "\n",
    "from IPython.core.display import Javascript\n",
    "from IPython.display import display\n",
    "\n",
    "def get_notebook_name():\n",
    "    \"\"\"Returns the name of the current notebook as a string\n",
    "    \n",
    "    From From https://mail.scipy.org/pipermail/ipython-dev/2014-June/014096.html\n",
    "    \"\"\"\n",
    "    display(Javascript('IPython.notebook.kernel.execute(\"theNotebook = \" + \\\n",
    "    \"\\'\"+IPython.notebook.notebook_name+\"\\'\");'))\n",
    "    return theNotebook\n",
    "\n",
    "nb_name = get_notebook_name()\n",
    "\n",
    "!jupyter nbconvert --to script $nb_name"
   ]
  }
 ],
 "metadata": {
  "kernelspec": {
   "display_name": "Python [conda env:Python3P5]",
   "language": "python",
   "name": "conda-env-Python3P5-py"
  },
  "language_info": {
   "codemirror_mode": {
    "name": "ipython",
    "version": 3
   },
   "file_extension": ".py",
   "mimetype": "text/x-python",
   "name": "python",
   "nbconvert_exporter": "python",
   "pygments_lexer": "ipython3",
   "version": "3.5.3"
  }
 },
 "nbformat": 4,
 "nbformat_minor": 2
}
