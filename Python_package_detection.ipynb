{
 "cells": [
  {
   "cell_type": "code",
   "execution_count": 2,
   "metadata": {
    "collapsed": true
   },
   "outputs": [],
   "source": [
    "# Check to evaluate Python package existence in running environment\n",
    "# The script distinguishes standard vs non-std (third party) python packages\n",
    "# evaluates list of packages (\"packages_to_test\"), a proxy for required packages\n",
    "# Tristan Wellman, BCB, USGS\n",
    "\n",
    "\n",
    "import sys\n",
    "from contextlib import contextmanager"
   ]
  },
  {
   "cell_type": "code",
   "execution_count": 3,
   "metadata": {
    "collapsed": true
   },
   "outputs": [],
   "source": [
    "# Hypothetical list of required packages \n",
    "\n",
    "packages_to_test = ['pysb', \n",
    "'logging',\n",
    " 'datetime', \n",
    " 'xml',\n",
    "'datetime', \n",
    " 'numpy',\n",
    " 'netCDF4',\n",
    " 'messytables',\n",
    " 'csv',\n",
    " 'os',\n",
    " 'sys',\n",
    " 'glob',\n",
    " 'json',\n",
    " 'traceback',\n",
    " 'decimal',\n",
    " 're',\n",
    " 'getopt',\n",
    " 'io',\n",
    " 'pandas',\n",
    "'xarray',\n",
    " 'collections',\n",
    " 'itertools',\n",
    " 'zipfile', \n",
    "'contextlib',\n",
    " 'dask',\n",
    " 'yaml',\n",
    " 'fastnumbers',\n",
    "  'unittest',\n",
    "'coverage',\n",
    "'matplotlib',\n",
    "  'json',\n",
    " 'foobar']  # add tests for bogus foobar' package or package not in current environment "
   ]
  },
  {
   "cell_type": "code",
   "execution_count": 5,
   "metadata": {
    "collapsed": true
   },
   "outputs": [],
   "source": [
    "# identify if package is presently installed in environment\n",
    "def installed_python_modules():\n",
    "    module_list = []\n",
    "    all_modules = [key.split('.')[0].split('_')[0] \\\n",
    "                   for key in sys.modules.keys()]\n",
    "    for name in all_modules:\n",
    "        if name not in module_list:\n",
    "            if name:\n",
    "                module_list.append(name)\n",
    "    module_list.sort()  \n",
    "    return module_list\n",
    "\n",
    "\n",
    "# filter out third party packages\n",
    "@contextmanager\n",
    "def ignore_site_packages_paths():\n",
    "    paths = sys.path\n",
    "    sys.path = list(filter(\n",
    "        None,\n",
    "        filter(lambda i: 'site-packages' not in i, sys.path)\n",
    "    ))\n",
    "    yield\n",
    "    sys.path = paths\n",
    "\n",
    "# identify if package is standard package\n",
    "def is_std_lib(module):\n",
    "    if module in sys.builtin_module_names:\n",
    "        return True\n",
    "\n",
    "    with ignore_site_packages_paths():\n",
    "        imported_module = sys.modules.pop(module, None)\n",
    "        try:\n",
    "            __import__(module)\n",
    "        except ImportError:\n",
    "            return False\n",
    "        else:\n",
    "            return True\n",
    "        finally:\n",
    "            if imported_module:\n",
    "                sys.modules[module] = imported_module          "
   ]
  },
  {
   "cell_type": "code",
   "execution_count": 12,
   "metadata": {},
   "outputs": [
    {
     "name": "stdout",
     "output_type": "stream",
     "text": [
      "modules currently installed in environment:\n",
      "\n",
      " ['IPython', 'abc', 'argparse', 'array', 'ast', 'atexit', 'base64', 'bdb', 'binascii', 'bisect', 'builtins', 'bz2', 'cProfile', 'calendar', 'certifi', 'cgi', 'chardet', 'cloudpickle', 'cmd', 'code', 'codecs', 'codeop', 'collections', 'concurrent', 'contextlib', 'copy', 'copyreg', 'csv', 'ctypes', 'curses', 'cython', 'dask', 'datetime', 'dateutil', 'decimal', 'decorator', 'difflib', 'dis', 'distutils', 'email', 'encodings', 'enum', 'errno', 'fastnumbers', 'faulthandler', 'fcntl', 'fnmatch', 'functools', 'gc', 'genericpath', 'getopt', 'getpass', 'gettext', 'glob', 'grp', 'gzip', 'hashlib', 'heapq', 'hmac', 'html', 'html5lib', 'http', 'idna', 'imp', 'importlib', 'inspect', 'io', 'ipaddress', 'ipykernel', 'ipython', 'itertools', 'jedi', 'json', 'jsontableschema', 'jupyter', 'keyword', 'linecache', 'locale', 'logging', 'lxml', 'lzma', 'marshal', 'math', 'messytables', 'mimetypes', 'mmap', 'mtrand', 'multiprocessing', 'netCDF4', 'netcdftime', 'ntpath', 'numbers', 'numpy', 'opcode', 'operator', 'optparse', 'os', 'pandas', 'parso', 'pathlib', 'pdb', 'pexpect', 'pickle', 'pickleshare', 'pkg', 'pkgutil', 'platform', 'plistlib', 'posix', 'posixpath', 'pprint', 'profile', 'prompt', 'pstats', 'pty', 'ptyprocess', 'pwd', 'pydoc', 'pyexpat', 'pygments', 'pysb', 'pytz', 'queue', 'quopri', 'random', 're', 'reprlib', 'requests', 'resource', 'runpy', 'select', 'selectors', 'shlex', 'shutil', 'signal', 'simplegeneric', 'site', 'six', 'socket', 'sqlite3', 'sre', 'ssl', 'stat', 'storemagic', 'string', 'stringprep', 'struct', 'subprocess', 'sys', 'sysconfig', 'tempfile', 'termios', 'textwrap', 'threading', 'time', 'timeit', 'token', 'tokenize', 'toolz', 'tornado', 'traceback', 'traitlets', 'tty', 'types', 'typing', 'unicodedata', 'unittest', 'urllib', 'urllib3', 'uu', 'uuid', 'warnings', 'wcwidth', 'weakref', 'webencodings', 'xarray', 'xlrd', 'xml', 'yaml', 'zipfile', 'zipimport', 'zlib', 'zmq']\n",
      "\n",
      "Required non-standard packages from third party contributors:\n",
      "\n",
      "['pysb', 'numpy', 'netCDF4', 'messytables', 'pandas', 'xarray', 'dask', 'yaml', 'fastnumbers', 'coverage', 'matplotlib', 'foobar']\n"
     ]
    }
   ],
   "source": [
    "# determine installed python modules (packages)\n",
    "modules_installed = installed_python_modules()\n",
    "print('modules currently installed in environment:\\n\\n', modules_installed)\n",
    "\n",
    "# Determine package hard (non-standard) dependencies \n",
    "thirdparty_dependencies = []\n",
    "for package in packages_to_test:\n",
    "    std_package = is_std_lib(package)\n",
    "    if not std_package:\n",
    "        thirdparty_dependencies.append(package)\n",
    "        \n",
    "print('\\nRequired non-standard packages from third party contributors:\\n')\n",
    "print(thirdparty_dependencies)        \n",
    "        "
   ]
  },
  {
   "cell_type": "code",
   "execution_count": 14,
   "metadata": {},
   "outputs": [
    {
     "ename": "ImportError",
     "evalue": "Missing required python modules(s)['coverage', 'matplotlib', 'foobar'] \n , please install via conda or pip",
     "output_type": "error",
     "traceback": [
      "\u001b[0;31m---------------------------------------------------------------------------\u001b[0m",
      "\u001b[0;31mImportError\u001b[0m                               Traceback (most recent call last)",
      "\u001b[0;32m<ipython-input-14-915998729828>\u001b[0m in \u001b[0;36m<module>\u001b[0;34m()\u001b[0m\n\u001b[1;32m     22\u001b[0m \u001b[0;32mif\u001b[0m \u001b[0mmissing_dependencies\u001b[0m\u001b[0;34m:\u001b[0m\u001b[0;34m\u001b[0m\u001b[0m\n\u001b[1;32m     23\u001b[0m     raise ImportError(\n\u001b[0;32m---> 24\u001b[0;31m         \"Missing required python modules(s){0} \\n , please install via conda or pip\".format(missing_dependencies))\n\u001b[0m\u001b[1;32m     25\u001b[0m \u001b[0;32mdel\u001b[0m \u001b[0mhard_dependencies\u001b[0m\u001b[0;34m,\u001b[0m \u001b[0mdependency\u001b[0m\u001b[0;34m,\u001b[0m \u001b[0mmissing_dependencies\u001b[0m\u001b[0;34m,\u001b[0m \u001b[0mpackage\u001b[0m\u001b[0;34m,\u001b[0m \u001b[0mmodules_installed\u001b[0m\u001b[0;34m\u001b[0m\u001b[0m\n",
      "\u001b[0;31mImportError\u001b[0m: Missing required python modules(s)['coverage', 'matplotlib', 'foobar'] \n , please install via conda or pip"
     ]
    }
   ],
   "source": [
    "# Create exception with messaging indicating missing packages. \n",
    "\n",
    "# currently installed python modules (packages)\n",
    "modules_installed = installed_python_modules()\n",
    "\n",
    "# Determine package hard (non-standard) dependencies \n",
    "hard_dependencies = []\n",
    "for package in packages_to_test:\n",
    "    std_package = is_std_lib(package)\n",
    "    if not std_package:\n",
    "        hard_dependencies.append(package)\n",
    "        \n",
    "# evaluate installation of hard dependencies\n",
    "missing_dependencies = []\n",
    "for dependency in packages_to_test: \n",
    "    try:\n",
    "        __import__(dependency)\n",
    "    except ImportError as e:\n",
    "        missing_dependencies.append(dependency)\n",
    "\n",
    "# raise an exception if package in list is not installed (any package, standard or 3rd party)\n",
    "if missing_dependencies:\n",
    "    raise ImportError(\n",
    "        \"Missing required python modules(s){0} \\n , please install via conda or pip\".format(missing_dependencies))\n",
    "del hard_dependencies, dependency, missing_dependencies, package, modules_installed\n"
   ]
  },
  {
   "cell_type": "code",
   "execution_count": null,
   "metadata": {
    "collapsed": true
   },
   "outputs": [],
   "source": []
  }
 ],
 "metadata": {
  "kernelspec": {
   "display_name": "Python [conda env:py3_recent]",
   "language": "python",
   "name": "conda-env-py3_recent-py"
  },
  "language_info": {
   "codemirror_mode": {
    "name": "ipython",
    "version": 3
   },
   "file_extension": ".py",
   "mimetype": "text/x-python",
   "name": "python",
   "nbconvert_exporter": "python",
   "pygments_lexer": "ipython3",
   "version": "3.5.4"
  }
 },
 "nbformat": 4,
 "nbformat_minor": 2
}
